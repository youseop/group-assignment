{
  "nbformat": 4,
  "nbformat_minor": 0,
  "metadata": {
    "colab": {
      "name": "group_assignment.ipynb",
      "provenance": [],
      "collapsed_sections": [],
      "mount_file_id": "1W8jKomptHUlmJd22ycqSXzkubKUIJROp",
      "authorship_tag": "ABX9TyOaVLfoJreWTg7+8xd79TY3",
      "include_colab_link": true
    },
    "kernelspec": {
      "name": "python3",
      "display_name": "Python 3"
    }
  },
  "cells": [
    {
      "cell_type": "markdown",
      "metadata": {
        "id": "view-in-github",
        "colab_type": "text"
      },
      "source": [
        "<a href=\"https://colab.research.google.com/github/youseop/group-assignment/blob/master/group_assignment.ipynb\" target=\"_parent\"><img src=\"https://colab.research.google.com/assets/colab-badge.svg\" alt=\"Open In Colab\"/></a>"
      ]
    },
    {
      "cell_type": "markdown",
      "metadata": {
        "id": "9ZlsjQQMV9l1"
      },
      "source": [
        "# 조 배정 (랜덤)\r\n",
        "\r\n"
      ]
    },
    {
      "cell_type": "code",
      "metadata": {
        "id": "Z7VXrSpEjUo1",
        "colab": {
          "base_uri": "https://localhost:8080/"
        },
        "outputId": "7b398c56-99ed-415f-cea0-f81caa89aa69"
      },
      "source": [
        "import pandas as pd\n",
        "import numpy as np\n",
        "import random, math\n",
        "from collections import deque\n",
        "\n",
        "from google.colab import drive\n",
        "drive.mount('/content/drive')"
      ],
      "execution_count": 95,
      "outputs": [
        {
          "output_type": "stream",
          "text": [
            "Drive already mounted at /content/drive; to attempt to forcibly remount, call drive.mount(\"/content/drive\", force_remount=True).\n"
          ],
          "name": "stdout"
        }
      ]
    },
    {
      "cell_type": "code",
      "metadata": {
        "id": "i5vHnsL7UEYu"
      },
      "source": [
        "sample = ['고재헌','강민규','김강산','김동은','김보석','김승현','김영동','김용기','김용욱','김유석','김정민','김형우','오태양','윤준영','이병호','이승민','이유섭','정우성','조성현','조영후','조정훈','최교진','최성현','허승','김나현','김홍지','송예은','조새힘','한정서','황수정']"
      ],
      "execution_count": 150,
      "outputs": []
    },
    {
      "cell_type": "code",
      "metadata": {
        "id": "6K-f_85ujXtX",
        "colab": {
          "base_uri": "https://localhost:8080/",
          "height": 348
        },
        "outputId": "584bbfb4-6d96-4d24-bd72-cdd20ab07000"
      },
      "source": [
        "student_num = 30\r\n",
        "group_num = 10\r\n",
        "week_num = 1\r\n",
        "\r\n",
        "student = list(i for i in range(student_num))\r\n",
        "random.shuffle(student)\r\n",
        "#이름으로 저장\r\n",
        "# for i in range(student_num):\r\n",
        "#   student[i]=sample[student[i]]\r\n",
        "\r\n",
        "group = np.reshape(student,(group_num,student_num//group_num))\r\n",
        "\r\n",
        "group = pd.DataFrame(group)\r\n",
        "\r\n",
        "path = '/content/sample_data/week_%d' %(week_num)\r\n",
        "group.to_csv(path, header = None, index = None)\r\n",
        "\r\n",
        "group"
      ],
      "execution_count": 98,
      "outputs": [
        {
          "output_type": "execute_result",
          "data": {
            "text/html": [
              "<div>\n",
              "<style scoped>\n",
              "    .dataframe tbody tr th:only-of-type {\n",
              "        vertical-align: middle;\n",
              "    }\n",
              "\n",
              "    .dataframe tbody tr th {\n",
              "        vertical-align: top;\n",
              "    }\n",
              "\n",
              "    .dataframe thead th {\n",
              "        text-align: right;\n",
              "    }\n",
              "</style>\n",
              "<table border=\"1\" class=\"dataframe\">\n",
              "  <thead>\n",
              "    <tr style=\"text-align: right;\">\n",
              "      <th></th>\n",
              "      <th>0</th>\n",
              "      <th>1</th>\n",
              "      <th>2</th>\n",
              "    </tr>\n",
              "  </thead>\n",
              "  <tbody>\n",
              "    <tr>\n",
              "      <th>0</th>\n",
              "      <td>9</td>\n",
              "      <td>0</td>\n",
              "      <td>29</td>\n",
              "    </tr>\n",
              "    <tr>\n",
              "      <th>1</th>\n",
              "      <td>17</td>\n",
              "      <td>10</td>\n",
              "      <td>15</td>\n",
              "    </tr>\n",
              "    <tr>\n",
              "      <th>2</th>\n",
              "      <td>1</td>\n",
              "      <td>22</td>\n",
              "      <td>11</td>\n",
              "    </tr>\n",
              "    <tr>\n",
              "      <th>3</th>\n",
              "      <td>14</td>\n",
              "      <td>6</td>\n",
              "      <td>20</td>\n",
              "    </tr>\n",
              "    <tr>\n",
              "      <th>4</th>\n",
              "      <td>3</td>\n",
              "      <td>19</td>\n",
              "      <td>18</td>\n",
              "    </tr>\n",
              "    <tr>\n",
              "      <th>5</th>\n",
              "      <td>25</td>\n",
              "      <td>16</td>\n",
              "      <td>2</td>\n",
              "    </tr>\n",
              "    <tr>\n",
              "      <th>6</th>\n",
              "      <td>7</td>\n",
              "      <td>13</td>\n",
              "      <td>8</td>\n",
              "    </tr>\n",
              "    <tr>\n",
              "      <th>7</th>\n",
              "      <td>21</td>\n",
              "      <td>4</td>\n",
              "      <td>28</td>\n",
              "    </tr>\n",
              "    <tr>\n",
              "      <th>8</th>\n",
              "      <td>12</td>\n",
              "      <td>5</td>\n",
              "      <td>24</td>\n",
              "    </tr>\n",
              "    <tr>\n",
              "      <th>9</th>\n",
              "      <td>23</td>\n",
              "      <td>27</td>\n",
              "      <td>26</td>\n",
              "    </tr>\n",
              "  </tbody>\n",
              "</table>\n",
              "</div>"
            ],
            "text/plain": [
              "    0   1   2\n",
              "0   9   0  29\n",
              "1  17  10  15\n",
              "2   1  22  11\n",
              "3  14   6  20\n",
              "4   3  19  18\n",
              "5  25  16   2\n",
              "6   7  13   8\n",
              "7  21   4  28\n",
              "8  12   5  24\n",
              "9  23  27  26"
            ]
          },
          "metadata": {
            "tags": []
          },
          "execution_count": 98
        }
      ]
    },
    {
      "cell_type": "markdown",
      "metadata": {
        "id": "mNXZ9ZmBWHnM"
      },
      "source": [
        "# 조 배정 (중복 제거) - 중복되지 않고 조 배정이 불가능한 경우 중복 단계별 허용"
      ]
    },
    {
      "cell_type": "code",
      "metadata": {
        "colab": {
          "base_uri": "https://localhost:8080/"
        },
        "id": "MSAmoEiZRM_5",
        "outputId": "02919802-40ae-4576-b94b-eea718977f8b"
      },
      "source": [
        "######fix#######\r\n",
        "student_num = 30\r\n",
        "group_num = 10\r\n",
        "######fix#######\r\n",
        "\r\n",
        "week_num = 9\r\n",
        "\r\n",
        "overlap = list(set() for _ in range(student_num))\r\n",
        "\r\n",
        "#이전 조의 정보를 받아서 overlap에 함께 했던 조원들의 정보 저장\r\n",
        "for i in range(1, week_num):\r\n",
        "  path = path = '/content/sample_data/week_%d' %(i)\r\n",
        "  prev_group = pd.read_csv(path, header = None)\r\n",
        "  prev_group = prev_group.values\r\n",
        "  for group_x in prev_group:\r\n",
        "    for x in group_x:\r\n",
        "      for k in group_x:\r\n",
        "        overlap[x].add(k)\r\n",
        "\r\n",
        "#overlap[i] - i와 함께했던 조원들\r\n",
        "print('student 0 과 함께한 조원들 : ', overlap[0])"
      ],
      "execution_count": 162,
      "outputs": [
        {
          "output_type": "stream",
          "text": [
            "student 0 과 함께한 조원들 :  {0, 2, 4, 5, 6, 8, 9, 10, 13, 15, 18, 21, 22, 26, 27, 29}\n"
          ],
          "name": "stdout"
        }
      ]
    },
    {
      "cell_type": "code",
      "metadata": {
        "colab": {
          "base_uri": "https://localhost:8080/"
        },
        "id": "E-qskcvmXVev",
        "outputId": "b9f982ea-f1c3-49df-8a54-7ee9033ed974"
      },
      "source": [
        "#학생 수: 30, 그룹 수 : 11 이렇게 배수 관계가 아닌 경우를 위해 올림을 추가로 해주었다.\r\n",
        "student_per_group = math.ceil(student_num / group_num)\r\n",
        "\r\n",
        "print('student per group : ', student_per_group)\r\n",
        "\r\n",
        "sample_tmp = list(i for i in range(student_num))\r\n",
        "random.shuffle(sample_tmp)\r\n",
        "# print(sample_tmp)\r\n",
        "\r\n",
        "cnt_std = 0\r\n",
        "\r\n",
        "while True:\r\n",
        "  sample=deque(sample_tmp)\r\n",
        "  new_group = [sample.popleft()] #새로운 그룹을 저장\r\n",
        "  overlapped_std = set() #겹치는 학생들 저장\r\n",
        "\r\n",
        "  for i in range(1,student_num):\r\n",
        "    #현재 new_group은 1차원 배열이기 때문에 같은 조만 탐색해야한다.\r\n",
        "    should_check = i % student_per_group\r\n",
        "    overlapped_tmp = set() #겹치는 학생들 임시저장\r\n",
        "\r\n",
        "    for _ in range(len(sample)):\r\n",
        "      cnt = 0\r\n",
        "\r\n",
        "      #그룹 내에서 겹치는 사람이 있는지 탐색\r\n",
        "      for k in range(1,1+should_check):\r\n",
        "        if set([new_group[i-k]]) & overlap[sample[0]]: \r\n",
        "          cnt += 1\r\n",
        "          sample.append(sample.popleft())\r\n",
        "\r\n",
        "        if cnt > cnt_std: \r\n",
        "          break\r\n",
        "\r\n",
        "      else:   \r\n",
        "        new_group.append(sample.popleft())   \r\n",
        "        if cnt != 0:\r\n",
        "          overlapped_tmp.add(new_group[-1])\r\n",
        "        break\r\n",
        "    \r\n",
        "    else:\r\n",
        "      overlapped_std |= overlapped_tmp\r\n",
        "      cnt_std += 1\r\n",
        "      break \r\n",
        "\r\n",
        "  if student_num == len(new_group):\r\n",
        "    break\r\n",
        "\r\n",
        "print('new group : ',new_group)\r\n",
        "print('overlapped student : ',overlapped_std)\r\n",
        "\r\n",
        "print('최대로 겹치는 사람의 수 : ', cnt_std)\r\n",
        "\r\n",
        "####################display as a name##################################\r\n",
        "sample = ['고재헌','강민규','김강산','김동은','김보석','김승현','김영동','김용기','김용욱','김유석','김정민','김형우','오태양','윤준영','이병호','이승민','이유섭','정우성','조성현','조영후','조정훈','최교진','최성현','허승','김나현','김홍지','송예은','조새힘','한정서','황수정']\r\n",
        "for i in range(student_num):\r\n",
        "  if i%student_per_group == 0: print()\r\n",
        "  print(sample[new_group[i]], end = ' ')\r\n",
        "####################display as a name##################################"
      ],
      "execution_count": 163,
      "outputs": [
        {
          "output_type": "stream",
          "text": [
            "student per group :  3\n",
            "[12, 14, 25, 23, 15, 3, 11, 18, 22, 24, 6, 17, 0, 1, 28, 20, 29, 16, 27, 10, 2, 9, 7, 4, 13, 19, 21, 5, 26, 8]\n",
            "new group :  [12, 14, 15, 3, 11, 22, 24, 17, 0, 1, 20, 29, 16, 27, 10, 2, 9, 4, 13, 19, 5, 26, 25, 18, 6, 7, 21, 8, 28, 23]\n",
            "overlapped student :  set()\n",
            "최대로 겹치는 사람의 수 :  2\n",
            "\n",
            "오태양 이병호 이승민 \n",
            "김동은 김형우 최성현 \n",
            "김나현 정우성 고재헌 \n",
            "강민규 조정훈 황수정 \n",
            "이유섭 조새힘 김정민 \n",
            "김강산 김유석 김보석 \n",
            "윤준영 조영후 김승현 \n",
            "송예은 김홍지 조성현 \n",
            "김영동 김용기 최교진 \n",
            "김용욱 한정서 허승 "
          ],
          "name": "stdout"
        }
      ]
    },
    {
      "cell_type": "code",
      "metadata": {
        "colab": {
          "base_uri": "https://localhost:8080/"
        },
        "id": "bN2PlrpTr5i2",
        "outputId": "41fbcb14-9b47-4550-9077-d4da7be6325c"
      },
      "source": [
        "#1차원 배열이었던 new_group을 10 X 3 배열로 reshape\r\n",
        "new_group = np.reshape(new_group,(group_num,student_per_group))\r\n",
        "#numpy(array)형태의 배열을 DataFrame으로 변경(csv파일로 저장하기 위해)\r\n",
        "new_group = pd.DataFrame(new_group)\r\n",
        "\r\n",
        "#저장 경로 지정 - gdrive 연동 후 경로에 맞게 수정 필요\r\n",
        "path = '/content/sample_data/week_%d' %(week_num)\r\n",
        "new_group.to_csv(path, header = None, index = None)\r\n",
        "\r\n",
        "print('\\n %d 조 배치 완료!' %(week_num))"
      ],
      "execution_count": 164,
      "outputs": [
        {
          "output_type": "stream",
          "text": [
            "\n",
            " 9 조 배치 완료!\n"
          ],
          "name": "stdout"
        }
      ]
    },
    {
      "cell_type": "markdown",
      "metadata": {
        "id": "Jr0PKc8q0OHG"
      },
      "source": [
        "# 실제로 안겹치는지 check - (미완)\r\n",
        "\r\n"
      ]
    },
    {
      "cell_type": "code",
      "metadata": {
        "colab": {
          "base_uri": "https://localhost:8080/"
        },
        "id": "vlb-Om8AbfKS",
        "outputId": "3bc9e425-8b82-4360-b912-3945c589181f"
      },
      "source": [
        "week_num = 7\r\n",
        "\r\n",
        "overlap = list(set() for _ in range(student_num))\r\n",
        "overlapped_std = set()\r\n",
        "\r\n",
        "#이전 조의 정보를 받아서 overlap에 함께 했던 조원들의 정보 저장\r\n",
        "for i in range(1, week_num+1):\r\n",
        "  path = path = '/content/sample_data/week_%d' %(i)\r\n",
        "  prev_group = pd.read_csv(path, header = None)\r\n",
        "  prev_group = prev_group.values\r\n",
        "\r\n",
        "  for group_x in prev_group:\r\n",
        "    for x in group_x:\r\n",
        "      for k in group_x:\r\n",
        "        if k not in overlap[x]:\r\n",
        "          overlap[x].add(k)\r\n",
        "        elif k != x:\r\n",
        "          overlapped_std.add((x,k))\r\n",
        "          \r\n",
        "overlapped_std"
      ],
      "execution_count": 158,
      "outputs": [
        {
          "output_type": "execute_result",
          "data": {
            "text/plain": [
              "{(5, 8),\n",
              " (7, 28),\n",
              " (8, 5),\n",
              " (9, 23),\n",
              " (10, 17),\n",
              " (11, 26),\n",
              " (17, 10),\n",
              " (21, 22),\n",
              " (22, 21),\n",
              " (23, 9),\n",
              " (26, 11),\n",
              " (27, 29),\n",
              " (28, 7),\n",
              " (29, 27)}"
            ]
          },
          "metadata": {
            "tags": []
          },
          "execution_count": 158
        }
      ]
    },
    {
      "cell_type": "code",
      "metadata": {
        "id": "8zEpuXRi0z9G"
      },
      "source": [
        ""
      ],
      "execution_count": null,
      "outputs": []
    }
  ]
}