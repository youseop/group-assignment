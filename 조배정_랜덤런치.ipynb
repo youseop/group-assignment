{
  "nbformat": 4,
  "nbformat_minor": 0,
  "metadata": {
    "colab": {
      "name": "조배정-랜덤런치.ipynb",
      "provenance": [],
      "collapsed_sections": [],
      "toc_visible": true,
      "mount_file_id": "1W8jKomptHUlmJd22ycqSXzkubKUIJROp",
      "authorship_tag": "ABX9TyPJrj29wl1bSnwJ979vrmoE",
      "include_colab_link": true
    },
    "kernelspec": {
      "name": "python3",
      "display_name": "Python 3"
    }
  },
  "cells": [
    {
      "cell_type": "markdown",
      "metadata": {
        "id": "view-in-github",
        "colab_type": "text"
      },
      "source": [
        "<a href=\"https://colab.research.google.com/github/youseop/group-assignment/blob/master/%EC%A1%B0%EB%B0%B0%EC%A0%95_%EB%9E%9C%EB%8D%A4%EB%9F%B0%EC%B9%98.ipynb\" target=\"_parent\"><img src=\"https://colab.research.google.com/assets/colab-badge.svg\" alt=\"Open In Colab\"/></a>"
      ]
    },
    {
      "cell_type": "markdown",
      "metadata": {
        "id": "9ZlsjQQMV9l1"
      },
      "source": [
        "# 조 배정 (랜덤 런치) - 중복 X\r\n",
        "\r\n"
      ]
    },
    {
      "cell_type": "code",
      "metadata": {
        "id": "Z7VXrSpEjUo1",
        "colab": {
          "base_uri": "https://localhost:8080/"
        },
        "outputId": "9332d588-a755-4e39-bea2-81ceb83be83f"
      },
      "source": [
        "import pandas as pd\n",
        "import numpy as np\n",
        "import random, math\n",
        "import sys\n",
        "from collections import deque \n",
        "\n",
        "from google.colab import drive\n",
        "drive.mount('/content/drive')"
      ],
      "execution_count": 94,
      "outputs": [
        {
          "output_type": "stream",
          "text": [
            "Drive already mounted at /content/drive; to attempt to forcibly remount, call drive.mount(\"/content/drive\", force_remount=True).\n"
          ],
          "name": "stdout"
        }
      ]
    },
    {
      "cell_type": "markdown",
      "metadata": {
        "id": "FftKmk6pg5bG"
      },
      "source": [
        "### 겹치는 학생 추출\r\n"
      ]
    },
    {
      "cell_type": "code",
      "metadata": {
        "id": "3qpWQnVyNB2V",
        "colab": {
          "base_uri": "https://localhost:8080/"
        },
        "outputId": "7f08d7e2-ce1e-4de3-ab38-10c86ac00aa0"
      },
      "source": [
        "###### 변수 설정 #######\r\n",
        "student_num = 30 + 2\r\n",
        "group_num = 8\r\n",
        "student_per_group = 4\r\n",
        "week_num = 10\r\n",
        "\r\n",
        "#name[0] == 'ㅇㅇㅇ' 유지시켜주세요!\r\n",
        "name = ['ㅇㅇㅇ','고재헌','강민규','김강산','김동은','김보석','김승현','김영동','김용기','김용욱','김유석','김정민','김형우','오태양','윤준영','이병호','이승민','이유섭','정우성','조성현','조영후','조정훈','최교진','최성현','허승','김나현','김홍지','송예은','조새힘','한정서','황수정']\r\n",
        "########################\r\n",
        "\r\n",
        "overlap = list(set() for _ in range(student_num))\r\n",
        "\r\n",
        "for i in range(1, week_num):\r\n",
        "  path = path = '/content/drive/MyDrive/Deeplearning_pract/조배정프로그램/result_lunch/week_%d' %(i)\r\n",
        "  prev_group = pd.read_csv(path, header = None)\r\n",
        "  prev_group = prev_group.values\r\n",
        "  \r\n",
        "  for i in range(group_num):\r\n",
        "    for j in range(student_per_group):\r\n",
        "      prev_group[i][j] = name.index(prev_group[i][j])\r\n",
        "  \r\n",
        "  for group_x in prev_group:\r\n",
        "    for x in group_x:\r\n",
        "      if x != 0:\r\n",
        "        for y in group_x:\r\n",
        "          if y != 0:\r\n",
        "            overlap[x].add(y)\r\n",
        "\r\n",
        "overlap[1]"
      ],
      "execution_count": 95,
      "outputs": [
        {
          "output_type": "execute_result",
          "data": {
            "text/plain": [
              "{1, 2, 3, 4, 5, 7, 8, 9, 10, 11, 15, 16, 17, 18, 20, 22, 24, 27, 28, 29}"
            ]
          },
          "metadata": {
            "tags": []
          },
          "execution_count": 95
        }
      ]
    },
    {
      "cell_type": "markdown",
      "metadata": {
        "id": "K2EZLbKUhBIW"
      },
      "source": [
        "### 중복 허용 \r\n"
      ]
    },
    {
      "cell_type": "code",
      "metadata": {
        "colab": {
          "base_uri": "https://localhost:8080/"
        },
        "id": "u1EIf6FXa2tU",
        "outputId": "bb5fd4d0-ac89-446b-a625-4aec07d7a576"
      },
      "source": [
        "########## 중복 허용 설정 #############\r\n",
        "value = 1               # 중복 허용 X #\r\n",
        "######################################\r\n",
        "\r\n",
        "print('student per group : ', student_per_group)\r\n",
        "\r\n",
        "sample_tmp = list(i  if i < len(name) else 0 for i in range(1, student_num+1))\r\n",
        "\r\n",
        "for _ in range(10000000):\r\n",
        "  random.shuffle(sample_tmp)\r\n",
        "  sample=deque(sample_tmp)\r\n",
        "  new_group = [sample.popleft()] #새로운 그룹 저장\r\n",
        "  success = False #성공여부\r\n",
        "  for i in range(1,student_num):\r\n",
        "    #현재 new_group은 1차원 배열이기 때문에 같은 조만 탐색해야한다.\r\n",
        "    should_check = i % student_per_group\r\n",
        "    for _ in range(len(sample)):\r\n",
        "      cnt_overlap = 0\r\n",
        "\r\n",
        "      #그룹 내에서 겹치는 사람이 있는지 탐색\r\n",
        "      for k in range(1,1+should_check):\r\n",
        "        if set([new_group[i-k]]) & overlap[sample[0]]: \r\n",
        "          cnt_overlap += 1\r\n",
        "        \r\n",
        "      if cnt_overlap > value:\r\n",
        "        sample.append(sample.popleft())\r\n",
        "      else:\r\n",
        "        new_group.append(sample.popleft())\r\n",
        "        break\r\n",
        "    else:\r\n",
        "      break\r\n",
        "  if len(new_group) == student_num:\r\n",
        "    success = True\r\n",
        "    break\r\n",
        "\r\n",
        "if success:\r\n",
        "  success_group = np.reshape(new_group,(group_num,student_per_group))\r\n",
        "  print('\\nnew group: \\n',success_group)\r\n",
        "\r\n",
        "  overlap_new = list(set() for _ in range(student_num))\r\n",
        "  for group in success_group:\r\n",
        "    for x in group:\r\n",
        "      for y in group:\r\n",
        "        overlap_new[x].add(y)\r\n",
        "  for i in range(student_num):\r\n",
        "    overlap_new[i] &= overlap[i]\r\n",
        "  \r\n",
        "  #print(overlap_new)\r\n",
        "\r\n",
        "  checked = True\r\n",
        "  for x in range(len(overlap_new)):\r\n",
        "    if len(overlap_new[x]) > 1+value:\r\n",
        "      checked = False\r\n",
        "  if checked:\r\n",
        "    print('\\nchecked')\r\n",
        "\r\n",
        "\r\n",
        "\r\n",
        "else:\r\n",
        "  print('falied,,,')"
      ],
      "execution_count": 96,
      "outputs": [
        {
          "output_type": "stream",
          "text": [
            "student per group :  4\n",
            "\n",
            "new group: \n",
            " [[28 16  0 30]\n",
            " [21  7  5 22]\n",
            " [25  9 13  0]\n",
            " [ 1 12 19 23]\n",
            " [ 6 17 10  8]\n",
            " [15 18  3 29]\n",
            " [ 4 24 27 11]\n",
            " [14  2 20 26]]\n"
          ],
          "name": "stdout"
        }
      ]
    },
    {
      "cell_type": "markdown",
      "metadata": {
        "id": "rkT5lnSEqe8S"
      },
      "source": [
        "### save as a file\r\n"
      ]
    },
    {
      "cell_type": "code",
      "metadata": {
        "colab": {
          "base_uri": "https://localhost:8080/"
        },
        "id": "2Dk87UBLiSrr",
        "outputId": "4e8031e6-38c2-4051-8ea6-0bdbbfb5f7a1"
      },
      "source": [
        "for i in range(len(new_group)):\r\n",
        "  new_group[i] = name[new_group[i]]\r\n",
        "new_group = np.reshape(new_group,(group_num,student_per_group))\r\n",
        "new_group = pd.DataFrame(new_group)\r\n",
        "\r\n",
        "path = '/content/drive/MyDrive/Deeplearning_pract/조배정프로그램/result_lunch/week_%d' %(week_num)\r\n",
        "new_group.to_csv(path, header = None, index = None)\r\n",
        "\r\n",
        "print('\\n %d 조 배치 완료!' %(week_num))\r\n"
      ],
      "execution_count": 97,
      "outputs": [
        {
          "output_type": "stream",
          "text": [
            "\n",
            " 10 조 배치 완료!\n"
          ],
          "name": "stdout"
        }
      ]
    },
    {
      "cell_type": "code",
      "metadata": {
        "id": "AGLGTWF7rPzG"
      },
      "source": [
        ""
      ],
      "execution_count": null,
      "outputs": []
    }
  ]
}